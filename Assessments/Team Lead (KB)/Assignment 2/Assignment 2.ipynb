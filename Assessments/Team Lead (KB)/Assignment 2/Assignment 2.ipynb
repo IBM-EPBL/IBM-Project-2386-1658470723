{
 "cells": [
  {
   "cell_type": "code",
   "execution_count": 20,
   "id": "3975251d",
   "metadata": {},
   "outputs": [
    {
     "name": "stdout",
     "output_type": "stream",
     "text": [
      "Detected temperature: 93°C\n",
      "Detected temperature: 93°C\n",
      "Detected temperature: 77°C\n",
      "Detected temperature: 78°C\n",
      "Detected temperature: 99°C\n",
      "Detected temperature: 90°C\n",
      "Detected temperature: 95°C\n",
      "Detected temperature: 95°C\n"
     ]
    }
   ],
   "source": [
    "import winsound\n",
    "import random\n",
    "import time\n",
    "\n",
    "cnt=0\n",
    "while cnt!=20:\n",
    "    temp = random.randint(0, 100)\n",
    "    if temp>60:\n",
    "        print(\"Detected temperature: \"+str(temp)+\"°C\")\n",
    "        freq = 3000\n",
    "        dur = 1000\n",
    "        winsound.Beep(freq,dur)\n",
    "    cnt+=1"
   ]
  },
  {
   "cell_type": "code",
   "execution_count": 7,
   "id": "53b31ef9",
   "metadata": {},
   "outputs": [],
   "source": []
  },
  {
   "cell_type": "code",
   "execution_count": null,
   "id": "4305e933",
   "metadata": {},
   "outputs": [],
   "source": []
  }
 ],
 "metadata": {
  "kernelspec": {
   "display_name": "Python 3 (ipykernel)",
   "language": "python",
   "name": "python3"
  },
  "language_info": {
   "codemirror_mode": {
    "name": "ipython",
    "version": 3
   },
   "file_extension": ".py",
   "mimetype": "text/x-python",
   "name": "python",
   "nbconvert_exporter": "python",
   "pygments_lexer": "ipython3",
   "version": "3.9.7"
  }
 },
 "nbformat": 4,
 "nbformat_minor": 5
}
